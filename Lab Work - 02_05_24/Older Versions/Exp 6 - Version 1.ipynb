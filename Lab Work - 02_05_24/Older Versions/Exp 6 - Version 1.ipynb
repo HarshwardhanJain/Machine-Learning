{
 "cells": [
  {
   "cell_type": "code",
   "execution_count": 23,
   "metadata": {},
   "outputs": [],
   "source": [
    "from collections import defaultdict\n",
    "from itertools import combinations\n",
    "\n",
    "# Load transactions\n",
    "with open('Bakery.csv', 'r') as file:\n",
    "    transactions = [line.strip().split(',') for line in file if line.strip()]\n",
    "\n",
    "# Build item to transaction mapping\n",
    "item_to_transactions = defaultdict(set)\n",
    "for tid, transaction in enumerate(transactions):\n",
    "    for item in transaction:\n",
    "        item_to_transactions[item.strip()].add(tid)"
   ]
  },
  {
   "cell_type": "code",
   "execution_count": 24,
   "metadata": {},
   "outputs": [],
   "source": [
    "# Function to find support of itemsets\n",
    "def find_support(itemsets, item_to_transactions):\n",
    "    support_counts = {}\n",
    "    for itemset in itemsets:\n",
    "        # Intersect transaction sets for all items in the itemset\n",
    "        common_transactions = set.intersection(*(item_to_transactions[item] for item in itemset))\n",
    "        support_counts[itemset] = len(common_transactions)\n",
    "    return support_counts\n",
    "\n",
    "# Generate frequent itemsets\n",
    "min_support_percentage = 0.30  # Set a minimum support threshold of 30%\n",
    "min_support = int(min_support_percentage * len(transactions))"
   ]
  },
  {
   "cell_type": "code",
   "execution_count": 25,
   "metadata": {},
   "outputs": [
    {
     "name": "stdout",
     "output_type": "stream",
     "text": [
      "Itemset: ('Weekday',), Support: 12807\n",
      "Itemset: ('Afternoon',), Support: 11569\n",
      "Itemset: ('Morning',), Support: 8404\n",
      "Itemset: ('Weekend',), Support: 7700\n",
      "Itemset: ('Afternoon', 'Weekday'), Support: 7273\n"
     ]
    }
   ],
   "source": [
    "# Start with single items\n",
    "frequent_itemsets = {}\n",
    "current_itemsets = [frozenset([item]) for item in item_to_transactions]\n",
    "\n",
    "while current_itemsets:\n",
    "    support_counts = find_support(current_itemsets, item_to_transactions)\n",
    "    # Filter itemsets meeting the minimum support\n",
    "    current_itemsets = [itemset for itemset in support_counts if support_counts[itemset] >= min_support]\n",
    "    frequent_itemsets.update({tuple(sorted(itemset)): support_counts[itemset] for itemset in current_itemsets})\n",
    "\n",
    "    # Generate next level itemsets\n",
    "    current_itemsets = [a.union(b) for a, b in combinations(current_itemsets, 2) if len(a.union(b)) == len(a) + 1]\n",
    "    current_itemsets = list(set(current_itemsets))  # Remove duplicates\n",
    "\n",
    "# Display frequent itemsets with support\n",
    "for itemset, support in sorted(frequent_itemsets.items(), key=lambda x: (-x[1], x[0])):\n",
    "    print(f\"Itemset: {itemset}, Support: {support}\")"
   ]
  },
  {
   "cell_type": "code",
   "execution_count": null,
   "metadata": {},
   "outputs": [],
   "source": []
  }
 ],
 "metadata": {
  "kernelspec": {
   "display_name": "Python (myenv)",
   "language": "python",
   "name": "myenv"
  },
  "language_info": {
   "codemirror_mode": {
    "name": "ipython",
    "version": 3
   },
   "file_extension": ".py",
   "mimetype": "text/x-python",
   "name": "python",
   "nbconvert_exporter": "python",
   "pygments_lexer": "ipython3",
   "version": "3.11.4"
  }
 },
 "nbformat": 4,
 "nbformat_minor": 2
}
