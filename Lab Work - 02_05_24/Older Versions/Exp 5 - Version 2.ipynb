{
 "cells": [
  {
   "cell_type": "code",
   "execution_count": 3,
   "metadata": {},
   "outputs": [
    {
     "name": "stdout",
     "output_type": "stream",
     "text": [
      "Frequent Itemsets:\n",
      "    support  itemsets\n",
      "0  0.327205   (Bread)\n",
      "1  0.478394  (Coffee)\n",
      "\n",
      "Association Rules (Support, Confidence, Lift):\n",
      "Empty DataFrame\n",
      "Columns: [antecedents, consequents, support, confidence, lift]\n",
      "Index: []\n"
     ]
    }
   ],
   "source": [
    "import pandas as pd\n",
    "import matplotlib.pyplot as plt\n",
    "from mlxtend.preprocessing import TransactionEncoder\n",
    "from mlxtend.frequent_patterns import apriori, association_rules\n",
    "\n",
    "# Step 1: Load and Preprocess Data\n",
    "# Assuming 'Bakery.csv' has columns like TransactionNo, Items, DateTime, etc.\n",
    "df = pd.read_csv('Bakery.csv')\n",
    "\n",
    "# Group items by TransactionNo to create transactions\n",
    "transactions = df.groupby('TransactionNo')['Items'].apply(list).values.tolist()\n",
    "\n",
    "# Step 2: One-Hot Encode the Transactions\n",
    "te = TransactionEncoder()\n",
    "te_ary = te.fit(transactions).transform(transactions)\n",
    "df_encoded = pd.DataFrame(te_ary, columns=te.columns_)\n",
    "\n",
    "# Step 3: Apply Apriori Algorithm\n",
    "frequent_itemsets = apriori(df_encoded, min_support=0.3, use_colnames=True)\n",
    "print(\"Frequent Itemsets:\")\n",
    "print(frequent_itemsets)\n",
    "\n",
    "# Step 4: Generate Association Rules\n",
    "rules = association_rules(frequent_itemsets, metric=\"confidence\", min_threshold=0.5)\n",
    "print(\"\\nAssociation Rules (Support, Confidence, Lift):\")\n",
    "print(rules[['antecedents', 'consequents', 'support', 'confidence', 'lift']])"
   ]
  },
  {
   "cell_type": "code",
   "execution_count": null,
   "metadata": {},
   "outputs": [],
   "source": []
  },
  {
   "cell_type": "code",
   "execution_count": null,
   "metadata": {},
   "outputs": [],
   "source": []
  }
 ],
 "metadata": {
  "kernelspec": {
   "display_name": "Python (myenv)",
   "language": "python",
   "name": "myenv"
  },
  "language_info": {
   "codemirror_mode": {
    "name": "ipython",
    "version": 3
   },
   "file_extension": ".py",
   "mimetype": "text/x-python",
   "name": "python",
   "nbconvert_exporter": "python",
   "pygments_lexer": "ipython3",
   "version": "3.11.4"
  }
 },
 "nbformat": 4,
 "nbformat_minor": 2
}
