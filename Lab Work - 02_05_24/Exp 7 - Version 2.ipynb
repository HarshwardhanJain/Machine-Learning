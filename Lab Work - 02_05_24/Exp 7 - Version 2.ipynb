{
 "cells": [
  {
   "cell_type": "code",
   "execution_count": 3,
   "metadata": {},
   "outputs": [
    {
     "name": "stderr",
     "output_type": "stream",
     "text": [
      "C:\\Users\\Jain\\AppData\\Local\\Temp\\ipykernel_8648\\3292880312.py:10: FutureWarning: DataFrame.applymap has been deprecated. Use DataFrame.map instead.\n",
      "  transactions = df.dropna().applymap(str).values.tolist()\n",
      "C:\\Users\\Jain\\AppData\\Local\\Temp\\ipykernel_8648\\3292880312.py:15: FutureWarning: Allowing arbitrary scalar fill_value in SparseDtype is deprecated. In a future version, the fill_value must be a valid value for the SparseDtype.subtype.\n",
      "  basket_encoded = pd.DataFrame.sparse.from_spmatrix(te_ary, columns=te.columns_)\n"
     ]
    },
    {
     "name": "stdout",
     "output_type": "stream",
     "text": [
      "Frequent Itemsets (Sorted by Support):\n",
      "     support              itemsets\n",
      "5   0.624518             (Weekday)\n",
      "4   0.564149           (Afternoon)\n",
      "0   0.409811             (Morning)\n",
      "1   0.375482             (Weekend)\n",
      "13  0.354659  (Weekday, Afternoon)\n",
      "3   0.266787              (Coffee)\n",
      "6   0.252304    (Morning, Weekday)\n",
      "8   0.209489  (Weekend, Afternoon)\n",
      "12  0.172770     (Coffee, Weekday)\n",
      "2   0.162140               (Bread)\n",
      "7   0.157507    (Weekend, Morning)\n",
      "11  0.137660   (Coffee, Afternoon)\n",
      "10  0.124884     (Morning, Coffee)\n",
      "9   0.102014      (Bread, Weekday)\n",
      "\n",
      "Association Rules (Sorted by Lift):\n",
      "   antecedents  consequents   support  confidence      lift\n",
      "4    (Morning)     (Coffee)  0.124884    0.304736  1.142244\n",
      "5     (Coffee)    (Morning)  0.124884    0.468105  1.142244\n",
      "6     (Coffee)    (Weekday)  0.172770    0.647596  1.036953\n",
      "7    (Weekday)     (Coffee)  0.172770    0.276646  1.036953\n",
      "0    (Weekend)    (Morning)  0.157507    0.419481  1.023594\n",
      "1    (Morning)    (Weekend)  0.157507    0.384341  1.023594\n",
      "2      (Bread)    (Weekday)  0.102014    0.629173  1.007453\n",
      "3    (Weekday)      (Bread)  0.102014    0.163348  1.007453\n",
      "8    (Weekday)  (Afternoon)  0.354659    0.567893  1.006636\n",
      "9  (Afternoon)    (Weekday)  0.354659    0.628663  1.006636\n"
     ]
    }
   ],
   "source": [
    "import pandas as pd\n",
    "from mlxtend.preprocessing import TransactionEncoder\n",
    "from mlxtend.frequent_patterns import fpgrowth, association_rules\n",
    "\n",
    "# Load dataset\n",
    "file_path = \"Bakery.csv\"\n",
    "df = pd.read_csv(file_path)\n",
    "\n",
    "# Convert data into a list of transactions, ensuring all items are strings\n",
    "transactions = df.dropna().applymap(str).values.tolist()\n",
    "\n",
    "# Apply TransactionEncoder to create a more memory-efficient one-hot encoding\n",
    "te = TransactionEncoder()\n",
    "te_ary = te.fit(transactions).transform(transactions, sparse=True)\n",
    "basket_encoded = pd.DataFrame.sparse.from_spmatrix(te_ary, columns=te.columns_)\n",
    "\n",
    "# Apply FP-Growth with higher min_support to reduce memory usage\n",
    "frequent_itemsets = fpgrowth(basket_encoded, min_support=0.1, use_colnames=True)\n",
    "\n",
    "# Extract association rules\n",
    "rules = association_rules(frequent_itemsets, metric=\"lift\", min_threshold=1.0)\n",
    "\n",
    "# Sort frequent itemsets by support (descending)\n",
    "frequent_itemsets = frequent_itemsets.sort_values(by='support', ascending=False)\n",
    "\n",
    "# Sort association rules by lift (descending)\n",
    "rules = rules.sort_values(by='lift', ascending=False)\n",
    "\n",
    "# Display sorted results\n",
    "print(\"Frequent Itemsets (Sorted by Support):\")\n",
    "print(frequent_itemsets)\n",
    "\n",
    "print(\"\\nAssociation Rules (Sorted by Lift):\")\n",
    "print(rules[['antecedents', 'consequents', 'support', 'confidence', 'lift']])"
   ]
  },
  {
   "cell_type": "code",
   "execution_count": null,
   "metadata": {},
   "outputs": [],
   "source": []
  }
 ],
 "metadata": {
  "kernelspec": {
   "display_name": "Python (myenv)",
   "language": "python",
   "name": "myenv"
  },
  "language_info": {
   "codemirror_mode": {
    "name": "ipython",
    "version": 3
   },
   "file_extension": ".py",
   "mimetype": "text/x-python",
   "name": "python",
   "nbconvert_exporter": "python",
   "pygments_lexer": "ipython3",
   "version": "3.11.4"
  }
 },
 "nbformat": 4,
 "nbformat_minor": 2
}
