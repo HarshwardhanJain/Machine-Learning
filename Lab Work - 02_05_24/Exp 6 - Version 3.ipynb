{
 "cells": [
  {
   "cell_type": "code",
   "execution_count": 3,
   "metadata": {},
   "outputs": [
    {
     "name": "stdout",
     "output_type": "stream",
     "text": [
      "Frequent Itemsets (ECLAT):\n",
      "                 Itemset   Support\n",
      "0              [Weekday]  0.624518\n",
      "5            [Afternoon]  0.564149\n",
      "10             [Morning]  0.409811\n",
      "13             [Weekend]  0.375482\n",
      "1   [Weekday, Afternoon]  0.354659\n",
      "8               [Coffee]  0.266787\n",
      "3     [Weekday, Morning]  0.252304\n",
      "7   [Afternoon, Weekend]  0.209489\n",
      "2      [Weekday, Coffee]  0.172770\n",
      "12               [Bread]  0.162140\n",
      "11    [Morning, Weekend]  0.157507\n",
      "6    [Afternoon, Coffee]  0.137660\n",
      "9      [Coffee, Morning]  0.124884\n",
      "4       [Weekday, Bread]  0.102014\n"
     ]
    },
    {
     "name": "stderr",
     "output_type": "stream",
     "text": [
      "C:\\Users\\Jain\\AppData\\Local\\Temp\\ipykernel_4592\\3566200062.py:10: FutureWarning: DataFrame.applymap has been deprecated. Use DataFrame.map instead.\n",
      "  transactions = df.dropna().applymap(str).values.tolist()\n"
     ]
    }
   ],
   "source": [
    "import pandas as pd\n",
    "from mlxtend.preprocessing import TransactionEncoder\n",
    "from itertools import combinations\n",
    "\n",
    "# Load dataset\n",
    "file_path = \"Bakery.csv\"\n",
    "df = pd.read_csv(file_path)\n",
    "\n",
    "# Convert data into a list of transactions, ensuring all items are strings\n",
    "transactions = df.dropna().applymap(str).values.tolist()\n",
    "\n",
    "# Convert transactions into a dictionary of TID sets\n",
    "item_tid_sets = {}\n",
    "for tid, transaction in enumerate(transactions):\n",
    "    for item in set(transaction):  # Use set to avoid duplicate items in a transaction\n",
    "        if item not in item_tid_sets:\n",
    "            item_tid_sets[item] = set()\n",
    "        item_tid_sets[item].add(tid)\n",
    "\n",
    "# Function to generate frequent itemsets using ECLAT\n",
    "def eclat(prefix, items, min_support, results):\n",
    "    while items:\n",
    "        item, tid_set = items.pop()\n",
    "        support = len(tid_set) / len(transactions)\n",
    "        if support >= min_support:\n",
    "            new_prefix = prefix + [item]\n",
    "            results.append((new_prefix, support))\n",
    "            \n",
    "            # Create new items dictionary for recursive calls\n",
    "            new_items = []\n",
    "            for other_item, other_tid_set in items:\n",
    "                new_tid_set = tid_set & other_tid_set  # Intersection of TID sets\n",
    "                if len(new_tid_set) / len(transactions) >= min_support:\n",
    "                    new_items.append((other_item, new_tid_set))\n",
    "                    \n",
    "            eclat(new_prefix, new_items, min_support, results)\n",
    "\n",
    "# Run ECLAT with min_support = 0.1\n",
    "min_support = 0.1\n",
    "results = []\n",
    "items = list(item_tid_sets.items())\n",
    "eclat([], items, min_support, results)\n",
    "\n",
    "# Convert results to a DataFrame\n",
    "frequent_itemsets_eclat = pd.DataFrame(results, columns=[\"Itemset\", \"Support\"])\n",
    "\n",
    "# Sort frequent itemsets by support (descending order)\n",
    "frequent_itemsets_eclat = frequent_itemsets_eclat.sort_values(by='Support', ascending=False)\n",
    "\n",
    "# Display sorted frequent itemsets\n",
    "print(\"Frequent Itemsets (ECLAT):\")\n",
    "print(frequent_itemsets_eclat)"
   ]
  }
 ],
 "metadata": {
  "kernelspec": {
   "display_name": "Python (myenv)",
   "language": "python",
   "name": "myenv"
  },
  "language_info": {
   "codemirror_mode": {
    "name": "ipython",
    "version": 3
   },
   "file_extension": ".py",
   "mimetype": "text/x-python",
   "name": "python",
   "nbconvert_exporter": "python",
   "pygments_lexer": "ipython3",
   "version": "3.11.4"
  }
 },
 "nbformat": 4,
 "nbformat_minor": 2
}
